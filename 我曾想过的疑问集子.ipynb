{
 "cells": [
  {
   "cell_type": "markdown",
   "metadata": {},
   "source": [
    "## 我曾想过\n",
    "\n",
    "### 生活\n",
    "\n",
    "* [人为什么会有赖床的习性？](https://www.zhihu.com/question/20114297/answer/760506202)\n",
    "* [揭秘：防蓝光眼镜真的有用吗？](https://zhuanlan.zhihu.com/p/63834105)\n",
    "* [头部按摩的好处](https://www.sohu.com/a/234397433_100154349)\n",
    "* [在学习工作中，怎么样休息才能让自己满血复活、恢复精力和斗志？](https://www.sohu.com/a/359352030_120113465)\n",
    "\n",
    "### 情感\n",
    "\n",
    "* [知乎-人为什么会愤怒或生气？](https://www.zhihu.com/question/20222339)\n",
    "* [知乎-情商高的人都怎样发脾气？](https://www.zhihu.com/question/24314797)\n",
    "[常爱说「废话」及爱抱怨的人，都是抱着什么心态的？](https://www.zhihu.com/question/22811035)\n",
    "* [我见过情商最高的行为，就是凡事有分寸感](https://kuaibao.qq.com/s/20190813A0PES700?refer=spider) \n",
    "* [怎么做人做事算是得体？](https://dhh.dahe.cn/con/0525088400)\n",
    "* [360doc-心理学家：这三种情况下，对亲情感到厌恶属于一种正常的心理](http://www.360doc.com/content/19/0601/11/37341805_839597711.shtml)\n",
    "* [遗传性性吸引](https://baike.baidu.com/item/%E9%81%97%E4%BC%A0%E6%80%A7%E6%80%A7%E5%90%B8%E5%BC%95/7678105?fr=aladdin)\n",
    "* [知乎-作为一名成年人，被父母打了，如何调整心态？](https://www.zhihu.com/question/40984913/answer/555662959)\n",
    "* [知乎-面对从童年持续至今的家庭暴力如何调整心态走出阴影？](https://www.zhihu.com/question/31277152/answer/51423535)\n",
    "* [怎样的言行举止可以反映一个人的教养和内涵？](https://www.zhihu.com/question/27871104/answer/45664502)\n",
    "* [简单心理uni-如何培养共情能力？](https://www.zhihu.com/question/24440657/answer/463431187)\n",
    "\n",
    "### 思考\n",
    "\n",
    "* [一个人如何多维度思考问题? 梦想家、实干家、批判家、调整方案执行](https://www.jianshu.com/p/b1a3ea921e83)\n",
    "* [主题式教学](https://www.edb.gov.hk/attachment/tc/curriculum-development/cross-kla-studies/gs-primary/teacher-edu-program/20150117-1.pdf)\n",
    "* [多維思考的重要性](https://data.leafwind.tw/the-importance-of-multi-dimension-thinking-b5dcb18309f4)\n",
    "* [知识体系—思考空间的五个维度](https://dy.163.com/article/EFSIPRHS05364HA9.html)\n",
    "* [乔布斯的4种经典思维模式](https://xueqiu.com/2524803655/126735858)\n",
    "\n",
    "### 高考与社会\n",
    "\n",
    "\n",
    "* [你读过哪些令你有跪感的书？](https://www.zhihu.com/question/310681355/answer/999792279)\n",
    "* [高中生最近看《乌合之众》里谈到应试教育，可是如果我不上学我现在能做什么？那现在努力的意义又是什么呢?](https://www.zhihu.com/question/391671684/answer/1201494550)\n",
    "* [马云说他招人不要清北毕业的，事实真是这样吗？](https://zhuanlan.zhihu.com/p/36745191)\n",
    "* [企业家们为什么要不停地挣钱？](https://www.zhihu.com/question/343114996/answer/1002729893)\n",
    "* [辞职后较长的空窗期里你都做了些什么？](https://www.zhihu.com/question/349948052)\n",
    "* [有哪些大家不说，但需要知道的社会常识？](https://www.zhihu.com/question/331082099/answer/1286116041)\n",
    "* [现在的年轻人是真的丧失了思考能力？还是只是选择了沉默不发声？](https://www.zhihu.com/question/402542831/answer/1301241054)\n",
    "* [如何解决思维混乱、讲话没条理的情况？](https://www.zhihu.com/question/30173526/answer/1076704287)\n",
    "* [为什么有的人没有阶级意识？](https://www.zhihu.com/question/48343079)\n",
    "* [NHK纪录片揭露的真相：为什么贫困家庭养出的孩子更贫困？](https://zhuanlan.zhihu.com/p/31642342)\n",
    "* [国内有没有适合青少年观看的性教育视频？](https://www.zhihu.com/question/47016153/answer/1260433889)\n",
    "* [社会学和心理学角度上来说，为什么暴乱会有如此强的「传染性」？](https://www.zhihu.com/question/398135057/answer/1293187760)\n",
    "* [奶头乐理论百科及话题](https://www.zhihu.com/topic/20003320/intro)\n",
    "* [就中国而言，近代到今最伟大的人是谁？](https://www.zhihu.com/question/371931317)\n"
   ]
  }
 ],
 "metadata": {
  "kernelspec": {
   "display_name": "Python 3",
   "language": "python",
   "name": "python3"
  },
  "language_info": {
   "codemirror_mode": {
    "name": "ipython",
    "version": 3
   },
   "file_extension": ".py",
   "mimetype": "text/x-python",
   "name": "python",
   "nbconvert_exporter": "python",
   "pygments_lexer": "ipython3",
   "version": "3.7.3"
  },
  "toc": {
   "base_numbering": 1,
   "nav_menu": {},
   "number_sections": true,
   "sideBar": true,
   "skip_h1_title": false,
   "title_cell": "Table of Contents",
   "title_sidebar": "Contents",
   "toc_cell": false,
   "toc_position": {},
   "toc_section_display": true,
   "toc_window_display": false
  }
 },
 "nbformat": 4,
 "nbformat_minor": 4
}
