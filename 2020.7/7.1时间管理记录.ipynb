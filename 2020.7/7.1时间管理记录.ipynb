{
 "cells": [
  {
   "cell_type": "markdown",
   "metadata": {},
   "source": [
    "## time log\n",
    "\n",
    "拟定稿，复习也是件很重要的事情。6.30的时间记录改进\n",
    "\n",
    "* 睡眠 5小时\n",
    "* 洗漱 15分钟左右\n",
    "* 冲凉 8分钟左右\n",
    "* 休息 25分钟\n",
    "* 睡觉 近50分钟左右\n",
    "* 吃饭 15分钟之间\n",
    "* 写日记 近60分钟\n",
    "* 跳绳跑步 35分钟\n",
    "* 夏季洗衣与搓澡 25分钟\n",
    "* 躺在床看手机 3小时\n",
    "\n",
    "我有多少时间，是自己决定、自己思考、自己承担的？\n",
    "\n",
    "\n",
    "### 现象观察\n",
    "\n",
    "睡眠5小时的话，早5点起床，比早7点的同事，**早晨近多出一个半小时左右的可用时间**。由于爱喝茶、咖啡，午间也吃的少，精力较多，砍掉午睡时间，**午间多出近2小时可用时间**。\n",
    "\n",
    "回家一身臭汗真的想躺下，但也不舒服，洗完澡后又精神了，我大脑似乎感觉但已经学不下新的知识了，躺下放松看手机不知不觉过了3小时，**节假日晚间浪费三小时时间。**\n",
    "\n",
    "#### 早晨午间的时间利用\n",
    "\n",
    "**现在问题来了，早上多出的一个半小时的时间、午间2小时的时间，用来做什么？**\n",
    "\n",
    "早晨的1个半小钟，用来读书，记录心得与碎片；午间的2小时，整理早上的工作内容，计划下午工作安排。\n",
    "\n",
    "#### 周末浪费3小时的改进\n",
    "\n",
    "晚上写日记（叙事），总结、笔记现在已经有jupyter notebook了。看点动漫、视觉小说、弹下键盘钢琴消遣一下。\n",
    "\n",
    "\n",
    "### e\n",
    "\n",
    "事项管理"
   ]
  },
  {
   "cell_type": "code",
   "execution_count": 2,
   "metadata": {},
   "outputs": [
    {
     "data": {
      "image/png": "[encoded data removed]",
      "text/plain": [
       "<Figure size 432x288 with 1 Axes>"
      ]
     },
     "metadata": {
      "needs_background": "light"
     },
     "output_type": "display_data"
    }
   ],
   "source": [
    "import matplotlib.pyplot as plt\n",
    "\n",
    "#折线图\n",
    "x = [5,9,13,17,19]#点的横坐标\n",
    "k1 = [1.8,1.8,1.8,1.8,1.8]#线1的纵坐标\n",
    "k2 = [1.6,1.6,1.6,1.6,1.6]#线2的纵坐标\n",
    "k3 = [1.4,1.4,1.4,1.4,1.4]#线3的纵坐标\n",
    "k4 = [1.2,1.2,1.2,1.2,1.2]#线4的纵坐标\n",
    "\n",
    "# 事件叙述参考 https://www.sohu.com/a/245265827_100018577\n",
    "#s-:方形 红线 重要且紧急（工作及期限）\n",
    "plt.plot(x,k1,'s-',color = 'r',label=\"吃饭，休息\")\n",
    "#o-:圆形 黄线 重要不紧急 （人际关系与职业规划）\n",
    "plt.plot(x,k2,'o-',color = 'y',label=\"洗澡、收拾行李\")\n",
    "#s-:方形 蓝线 不重要但紧急 （房租水电）\n",
    "plt.plot(x,k3,'s-',color = 'b',label=\"吃饭\")\n",
    "#o-:圆形 青线 不重要不紧急（影音娱乐）\n",
    "plt.plot(x,k4,'o-',color = 'c',label=\"写日记\")\n",
    "plt.xlabel(\"X\")\n",
    "plt.ylabel(\"Y\")\n",
    "plt.legend(loc = \"best\")#图例\n",
    "plt.rcParams['font.sans-serif']=['SimHei'] # 中文\n",
    "plt.show()"
   ]
  },
  {
   "cell_type": "code",
   "execution_count": null,
   "metadata": {},
   "outputs": [],
   "source": []
  }
 ],
 "metadata": {
  "kernelspec": {
   "display_name": "Python 3",
   "language": "python",
   "name": "python3"
  },
  "language_info": {
   "codemirror_mode": {
    "name": "ipython",
    "version": 3
   },
   "file_extension": ".py",
   "mimetype": "text/x-python",
   "name": "python",
   "nbconvert_exporter": "python",
   "pygments_lexer": "ipython3",
   "version": "3.7.3"
  },
  "toc": {
   "base_numbering": 1,
   "nav_menu": {},
   "number_sections": true,
   "sideBar": true,
   "skip_h1_title": false,
   "title_cell": "Table of Contents",
   "title_sidebar": "Contents",
   "toc_cell": false,
   "toc_position": {},
   "toc_section_display": true,
   "toc_window_display": false
  }
 },
 "nbformat": 4,
 "nbformat_minor": 4
}
