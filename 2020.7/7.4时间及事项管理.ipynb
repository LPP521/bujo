{
 "cells": [
  {
   "cell_type": "markdown",
   "metadata": {},
   "source": [
    "### think\n",
    "\n",
    "* [人为什么会有赖床的习性？](https://www.zhihu.com/question/20114297/answer/760506202)\n",
    "* [揭秘：防蓝光眼镜真的有用吗？](https://zhuanlan.zhihu.com/p/63834105)\n",
    "* [头部按摩的好处](https://www.sohu.com/a/234397433_100154349)\n",
    "* [在学习工作中，怎么样休息才能让自己满血复活、恢复精力和斗志？](https://www.sohu.com/a/359352030_120113465)\n",
    "\n",
    "\n",
    "工作45分钟，休息25分钟左右，利用防蓝光眼镜缓解看电脑视觉疲劳，延长工作时间。尝试了一下，按摩太阳穴，只是有效的提神了。那么我休息的目的也是为了提神，殊途同归。如果我闭眼，配合太阳穴按摩3-5分钟左右，来回卫生间静静慢慢地冷水洗脸，是不是也能达到休息的效果呢？\n",
    "\n",
    "睡眠计划：\n",
    "\n",
    "睡眠周期：睡眠前、入睡期、轻睡期、熟睡期、眼动期、睡眠后；晚12点睡，早5点醒，余6小时左右。\n",
    "\n",
    "* 5点至5.30起床，不能妥协\n",
    "* 平均周期为1.5小时左右\n",
    "\n",
    "method\n",
    "\n",
    "* 中午小睡不超过30分钟，预估一个20分钟的生物闹钟，估计到点了就起来，至于超不超时不是很重要。\n",
    "* 睡前30分钟内，不接触电子设备，营造睡眠环境\n",
    "\n",
    "\n",
    "### bujo\n",
    "\n",
    "* [x] RPA 反思、计划、行动表\n",
    "* !- 要面对的未知的黑暗面，逃避或无视始终不是解决问题的办法，甚至反受其对自己的被动负面制约。\n",
    "* !- 我的碎片化时间或是不想再进行学习的时间，是不是练习写字呢？反正这个又无脑，不需要分析的。\n",
    "\n"
   ]
  },
  {
   "cell_type": "code",
   "execution_count": 4,
   "metadata": {},
   "outputs": [
    {
     "name": "stdout",
     "output_type": "stream",
     "text": [
      "时间管理RPA表单\n",
      "+------------+--------------------+----------+------------------------+------------+------------------------------+\n",
      "| 反思Recall |        记录        | 计划Plan |          记录          | 行动Action |          行动Action          |\n",
      "+------------+--------------------+----------+------------------------+------------+------------------------------+\n",
      "|  回顾事件  |     日、周、月     |   梦想   |  短期及长期目标、宗旨  |    记录    |       清空再来回顾流程       |\n",
      "|  分析原因  | 月度检视、年度理想 |   关注   | 理财、社交、效率、学习 |    排程    |        事件的紧急程度        |\n",
      "|  更新计划  | 调整日、周、月项目 |   项目   |       日周月计划       |    执行    | 执行方式（处理、委托、推迟） |\n",
      "+------------+--------------------+----------+------------------------+------------+------------------------------+\n"
     ]
    }
   ],
   "source": [
    "from prettytable import PrettyTable\n",
    "print (\"时间管理RPA表单\")\n",
    "table = PrettyTable()\n",
    "table.add_column('反思Recall',['回顾事件','分析原因','更新计划'])\n",
    "table.add_column('记录',['日、周、月','月度检视、年度理想','调整日、周、月项目'])\n",
    "table.add_column('计划Plan',['梦想','关注','项目'])\n",
    "table.add_column('记录',['短期及长期目标、宗旨','理财、社交、效率、学习','日周月计划'])\n",
    "table.add_column('行动Action',['记录','排程','执行'])\n",
    "table.add_column('行动Action',['清空再来回顾流程','事件的紧急程度','执行方式（处理、委托、推迟）'])\n",
    "print(table)"
   ]
  },
  {
   "cell_type": "code",
   "execution_count": 5,
   "metadata": {},
   "outputs": [
    {
     "data": {
      "image/png": "[encoded data removed]",
      "text/plain": [
       "<Figure size 432x288 with 1 Axes>"
      ]
     },
     "metadata": {
      "needs_background": "light"
     },
     "output_type": "display_data"
    }
   ],
   "source": [
    "import matplotlib.pyplot as plt\n",
    "\n",
    "#折线图\n",
    "x = [5,9,13,17,19]#点的横坐标\n",
    "k1 = [1.8,1.8,1.8,1.8,1.8]#线1的纵坐标\n",
    "k2 = [1.6,1.6,1.6,1.6,1.6]#线2的纵坐标\n",
    "k3 = [1.4,1.4,1.4,1.4,1.4]#线3的纵坐标\n",
    "k4 = [1.2,1.2,1.2,1.2,1.2]#线4的纵坐标\n",
    "\n",
    "# 事件叙述参考 https://www.sohu.com/a/245265827_100018577\n",
    "#s-:方形 红线 重要且紧急\n",
    "plt.plot(x,k1,'s-',color = 'r',label=\"重要且紧急\")\n",
    "#o-:圆形 黄线 重要不紧急 \n",
    "plt.plot(x,k2,'o-',color = 'y',label=\"重要不紧急\")\n",
    "#s-:方形 蓝线 不重要但紧急 \n",
    "plt.plot(x,k3,'s-',color = 'b',label=\"不重要但紧急\")\n",
    "#o-:圆形 青线 不重要不紧急\n",
    "plt.plot(x,k4,'o-',color = 'c',label=\"重要不紧急\")\n",
    "plt.xlabel(\"X\")\n",
    "plt.ylabel(\"Y\")\n",
    "plt.legend(loc = \"best\")#图例\n",
    "plt.rcParams['font.sans-serif']=['SimHei'] # 中文\n",
    "plt.show()"
   ]
  }
 ],
 "metadata": {
  "kernelspec": {
   "display_name": "Python 3",
   "language": "python",
   "name": "python3"
  },
  "language_info": {
   "codemirror_mode": {
    "name": "ipython",
    "version": 3
   },
   "file_extension": ".py",
   "mimetype": "text/x-python",
   "name": "python",
   "nbconvert_exporter": "python",
   "pygments_lexer": "ipython3",
   "version": "3.7.3"
  },
  "toc": {
   "base_numbering": 1,
   "nav_menu": {},
   "number_sections": true,
   "sideBar": true,
   "skip_h1_title": false,
   "title_cell": "Table of Contents",
   "title_sidebar": "Contents",
   "toc_cell": false,
   "toc_position": {},
   "toc_section_display": true,
   "toc_window_display": false
  }
 },
 "nbformat": 4,
 "nbformat_minor": 4
}
