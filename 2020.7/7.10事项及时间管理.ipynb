{
 "cells": [
  {
   "cell_type": "markdown",
   "metadata": {},
   "source": [
    "### 新发现\n",
    "\n",
    "我读书过慢确实有些问题，于是也在知乎上找到相关的答案。\n",
    "\n",
    "* [学习读书的时候想全部弄懂，速度很慢。请问是陷入了什么误区](https://www.zhihu.com/question/30438569)\n",
    "* [看书速度很慢怎么办？](https://www.zhihu.com/question/21098453)\n",
    "\n",
    "受下面链接启发，锻炼自己连在厕所都要有看书的习惯·能力\n",
    "\n",
    "* http://www.voicer.me/archives/74470\n",
    "\n",
    "\n",
    "保健可以一周一两次和崂山蛇草水\n",
    "\n",
    "参考 [崂山白花蛇草水禁忌 这个多久喝一次好](http://mip.imask.xywy.com/question/7236624.html)\n",
    "\n",
    "\n",
    "\n",
    "### feel\n",
    "\n",
    "good\n",
    "\n",
    "* 通过扩大视野的方式确实比以前阅读速度快很多，阅读时长提升了10分钟以上\n",
    "\n",
    "fault\n",
    "\n",
    "* 最近老是忘了练字...甚至想不起这回事...\n",
    "* 照常5点起，早晨一个热水澡，睡了3小时\n",
    "* 放松开始计时了，继续游玩到回家也想不起要关掉\n",
    "\n",
    "\n",
    "### 事项\n"
   ]
  },
  {
   "cell_type": "code",
   "execution_count": 1,
   "metadata": {},
   "outputs": [
    {
     "data": {
      "image/png": "[encoded data removed]",
      "text/plain": [
       "<Figure size 432x288 with 1 Axes>"
      ]
     },
     "metadata": {
      "needs_background": "light"
     },
     "output_type": "display_data"
    }
   ],
   "source": [
    "import matplotlib.pyplot as plt\n",
    "\n",
    "#折线图\n",
    "x = [5,9,13,17,19]#点的横坐标\n",
    "k1 = [1.8,1.8,1.8,1.8,1.8]#线1的纵坐标\n",
    "k2 = [1.6,1.6,1.6,1.6,1.6]#线2的纵坐标\n",
    "k3 = [1.4,1.4,1.4,1.4,1.4]#线3的纵坐标\n",
    "k4 = [1.2,1.2,1.2,1.2,1.2]#线4的纵坐标\n",
    "\n",
    "# 事件叙述参考 https://www.sohu.com/a/245265827_100018577\n",
    "#s-:方形 红线 重要且紧急\n",
    "plt.plot(x,k1,'s-',color = 'r',label=\"阅读《共情的力量》\")\n",
    "#o-:圆形 黄线 重要不紧急 \n",
    "plt.plot(x,k2,'o-',color = 'y',label=\"开始记录开支（养成习惯）\")\n",
    "#s-:方形 蓝线 不重要但紧急 \n",
    "plt.plot(x,k3,'s-',color = 'b',label=\"练习写字\")\n",
    "#o-:圆形 青线 不重要不紧急\n",
    "plt.plot(x,k4,'o-',color = 'c',label=\"看动漫\")\n",
    "plt.xlabel(\"X\")\n",
    "plt.ylabel(\"Y\")\n",
    "plt.legend(loc = \"best\")#图例\n",
    "plt.rcParams['font.sans-serif']=['SimHei'] # 中文\n",
    "plt.show()"
   ]
  },
  {
   "cell_type": "markdown",
   "metadata": {},
   "source": [
    "一天额外用了26块钱，最主要的原因是：没有一天支出的预算，开销全凭心情！从今天起，必须规划好每日的开销。在家一日三餐有了，减少饮料的开销。一天开销不能超过15元，梦想储蓄罐（小狗钱钱）。**有必要研究饮料为什么上瘾了。**"
   ]
  },
  {
   "cell_type": "code",
   "execution_count": 1,
   "metadata": {},
   "outputs": [
    {
     "name": "stdout",
     "output_type": "stream",
     "text": [
      "在家的一天的支出,截止17：40分消费 46.5 元\n"
     ]
    }
   ],
   "source": [
    "import numpy as np\n",
    "杀猪粉,饮料,甜筒,烧烤= 8.5,10,2,26\n",
    "一天的消费=np.array([杀猪粉,饮料,甜筒,烧烤])\n",
    "print('在家的一天的支出,截止17：40分消费',np.sum(一天的消费) ,'元') "
   ]
  }
 ],
 "metadata": {
  "kernelspec": {
   "display_name": "Python 3",
   "language": "python",
   "name": "python3"
  },
  "language_info": {
   "codemirror_mode": {
    "name": "ipython",
    "version": 3
   },
   "file_extension": ".py",
   "mimetype": "text/x-python",
   "name": "python",
   "nbconvert_exporter": "python",
   "pygments_lexer": "ipython3",
   "version": "3.7.3"
  },
  "toc": {
   "base_numbering": 1,
   "nav_menu": {},
   "number_sections": true,
   "sideBar": true,
   "skip_h1_title": false,
   "title_cell": "Table of Contents",
   "title_sidebar": "Contents",
   "toc_cell": false,
   "toc_position": {},
   "toc_section_display": true,
   "toc_window_display": false
  }
 },
 "nbformat": 4,
 "nbformat_minor": 4
}
