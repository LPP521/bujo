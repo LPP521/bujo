{
 "cells": [
  {
   "cell_type": "markdown",
   "metadata": {},
   "source": [
    "### time log\n",
    "\n",
    "* 11:30左右 - 6:30 （discover：共计8小时，睡眠时间不是很固定）\n",
    "* 吃早餐 9 分钟 （discover：吃得过于大口咽，没有休息）\n",
    "* 卫生间 10 分钟\n",
    "\n",
    "\n",
    "#### 读书优化\n",
    "\n",
    "7.46左右，2小时20分钟左右看书\n",
    "\n",
    "* 45 - 15 | 45 - 15 | 20 整理\n",
    "\n",
    "读书的60分钟概况：\n",
    "\n",
    "* 无法集中精力阅读\n",
    "    * 在吃山楂\n",
    "    * 心里也一直在幻想与妹妹牵手\n",
    "* 没有提前备好读书工具\n",
    "* 45分钟精力有些疲惫了，15分钟的休息还是没缓过劲来\n",
    "\n",
    "\n",
    "好在我很及时的去优化调整改进。\n",
    "\n",
    "* 疲态的时候不要再去看书了\n",
    "* 正确的坐姿\n",
    "    * 用坐骨支撑上半身，而不是屁股\n",
    "    * 背部挺直\n",
    "    * 肩膀打开\n",
    "    * 不要低头，不要低头，不要低头\n",
    "* 甜食-棒棒糖\n",
    "\n",
    "### 午睡\n",
    "\n",
    "原计划30分钟，现阶段睡了1小时，醒来了，但还是有点小困。\n",
    "\n",
    "参考链接：\n",
    "\n",
    "* [心理学解释：为什么一看书就想睡觉，今天终于知道原因了！](http://www.360doc.com/content/17/0710/09/44139209_670223948.shtml)\n",
    "* [看书看到大脑疲劳以后，应如何快速恢复大脑状态？](https://www.zhihu.com/question/30530306)\n",
    "\n",
    "##### 看来生活还是要充满挑战性，尽管我是有所抗拒，但不得不去面对的，去解决的\n"
   ]
  },
  {
   "cell_type": "code",
   "execution_count": null,
   "metadata": {},
   "outputs": [],
   "source": [
    "import matplotlib.pyplot as plt\n",
    "\n",
    "#折线图\n",
    "x = [5,9,13,17,19]#点的横坐标\n",
    "k1 = [1.8,1.8,1.8,1.8,1.8]#线1的纵坐标\n",
    "k2 = [1.6,1.6,1.6,1.6,1.6]#线2的纵坐标\n",
    "k3 = [1.4,1.4,1.4,1.4,1.4]#线3的纵坐标\n",
    "k4 = [1.2,1.2,1.2,1.2,1.2]#线4的纵坐标\n",
    "\n",
    "# 事件叙述参考 https://www.sohu.com/a/245265827_100018577\n",
    "#s-:方形 红线 重要且紧急\n",
    "plt.plot(x,k1,'s-',color = 'r',label=\"看书\")\n",
    "#o-:圆形 黄线 重要不紧急 \n",
    "plt.plot(x,k2,'o-',color = 'y',label=\"番茄\")\n",
    "#s-:方形 蓝线 不重要但紧急 \n",
    "plt.plot(x,k3,'s-',color = 'b',label=\"练习写字\")\n",
    "#o-:圆形 青线 不重要不紧急\n",
    "plt.plot(x,k4,'o-',color = 'c',label=\"看朋友推荐视频\")\n",
    "plt.xlabel(\"X\")\n",
    "plt.ylabel(\"Y\")\n",
    "plt.legend(loc = \"best\")#图例\n",
    "plt.rcParams['font.sans-serif']=['SimHei'] # 中文\n",
    "plt.show()"
   ]
  }
 ],
 "metadata": {
  "kernelspec": {
   "display_name": "Python 3",
   "language": "python",
   "name": "python3"
  },
  "language_info": {
   "codemirror_mode": {
    "name": "ipython",
    "version": 3
   },
   "file_extension": ".py",
   "mimetype": "text/x-python",
   "name": "python",
   "nbconvert_exporter": "python",
   "pygments_lexer": "ipython3",
   "version": "3.7.3"
  },
  "toc": {
   "base_numbering": 1,
   "nav_menu": {},
   "number_sections": true,
   "sideBar": true,
   "skip_h1_title": false,
   "title_cell": "Table of Contents",
   "title_sidebar": "Contents",
   "toc_cell": false,
   "toc_position": {},
   "toc_section_display": true,
   "toc_window_display": false
  }
 },
 "nbformat": 4,
 "nbformat_minor": 4
}
