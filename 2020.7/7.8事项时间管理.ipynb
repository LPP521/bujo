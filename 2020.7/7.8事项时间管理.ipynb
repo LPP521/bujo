{
 "cells": [
  {
   "cell_type": "markdown",
   "metadata": {},
   "source": [
    "### 明明很困，但是一躺下就会越来越清醒\n",
    "\n",
    "2小时15分起来，已是0点45分\n",
    "\n",
    "> 参考 [明明很困，但是一躺下就会越来越清醒](https://www.120ask.com/question/70360480.htm)\n",
    "\n",
    "原因：健康人的转氨酶水平暂时超出正常范围是经常发生的。比如：剧烈运动、劳累、焦躁或油腻食物、抽烟、饮酒、吃药都会使转氨酶暂时偏高。关键词：**油腻食物**、**焦躁**、**劳累**、**剧烈运动**，所以还是清淡的好...\n",
    "\n",
    "> [百度百科-转氨酶偏高](https://baike.baidu.com/item/%E8%BD%AC%E6%B0%A8%E9%85%B6%E5%81%8F%E9%AB%98/6025097)\n",
    "\n",
    "顺便也查了下全身瘙痒的原因，发现核心点：**焦躁（过度紧张）**\n",
    "\n",
    "> [百家号-全身瘙痒是什么原因？](https://baijiahao.baidu.com/s?id=1639091666595343953&wfr=spider&for=pc\n",
    "\n",
    "\n",
    "### 应对策略\n",
    "\n",
    "* 早上在晨光中散步，会缩短睡眠周期\n",
    "* 锻炼能缩短你的睡眠周期\n",
    "* 白天睡觉不宜超过一小时\n",
    "* 在上床一小时之前，停止强脑力活动，可看一些简易读本或喜剧电视片\n",
    "* 等困了才上床\n",
    "\n",
    "> 参考 [为什么我明明很困。但是一躺在床上就变得更精神了，还得翻来覆去1.5个小时才能睡觉？](https://www.pai-hang-bang.com/ap-yngagaassesaesaecv.html)"
   ]
  },
  {
   "cell_type": "code",
   "execution_count": null,
   "metadata": {},
   "outputs": [],
   "source": []
  }
 ],
 "metadata": {
  "kernelspec": {
   "display_name": "Python 3",
   "language": "python",
   "name": "python3"
  },
  "language_info": {
   "codemirror_mode": {
    "name": "ipython",
    "version": 3
   },
   "file_extension": ".py",
   "mimetype": "text/x-python",
   "name": "python",
   "nbconvert_exporter": "python",
   "pygments_lexer": "ipython3",
   "version": "3.7.3"
  },
  "toc": {
   "base_numbering": 1,
   "nav_menu": {},
   "number_sections": true,
   "sideBar": true,
   "skip_h1_title": false,
   "title_cell": "Table of Contents",
   "title_sidebar": "Contents",
   "toc_cell": false,
   "toc_position": {},
   "toc_section_display": true,
   "toc_window_display": false
  }
 },
 "nbformat": 4,
 "nbformat_minor": 4
}
