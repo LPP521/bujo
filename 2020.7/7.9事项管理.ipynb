{
 "cells": [
  {
   "cell_type": "markdown",
   "metadata": {},
   "source": [
    "### 7.8应对策略改良\n",
    "\n",
    "* 早上在晨光中散步，会缩短睡眠周期\n",
    "* 锻炼能缩短你的睡眠周期 （20-30分钟，达到效果即可）\n",
    "* 白天睡觉不宜超过一小时（25分钟小憇）\n",
    "* 在上床一小时之前，停止强脑力活动，可看一些简易读本或喜剧电视片\n",
    "* 等困了才上床\n",
    "\n",
    "今天锻炼用了近一个半小时（提前喝水，早五六点，小店没开门），散步20-30分钟左右精神了就好了。\n",
    "\n",
    "### time log\n",
    "\n",
    "* 0点左右-至5点半 5小时半左右睡眠\n",
    "\n",
    "虽然之前出了很多汗，但不洗澡其实也没什么，留给明天早上洗效果更好（节假日）。\n",
    "\n",
    "### bujo\n",
    "\n",
    "今早的给我买衣服事件，情商及非暴力沟通方面还是太过欠缺，由此联想\n",
    "\n",
    "* !- 今早失控，提前准备情景以及话术，就把它当作一场面试嘛\n",
    "\n",
    "机会从来都是给有准备的人，这句话一点也没错。今天有个不好的行为，打乱原先制定的四象限方案，加以改正。\n",
    "\n",
    "* 从今天起安排好明天要做的事情！\n",
    "\n",
    "### chip\n",
    "\n",
    "看来要学会记录开支，学会存钱了"
   ]
  },
  {
   "cell_type": "code",
   "execution_count": 18,
   "metadata": {},
   "outputs": [
    {
     "name": "stdout",
     "output_type": "stream",
     "text": [
      "在家的一天的支出,截止17：40分消费 20 元\n"
     ]
    }
   ],
   "source": [
    "import numpy as np\n",
    "杀猪粉,饮料,甜筒= 8,10,2\n",
    "一天的消费=np.array([[杀猪粉,饮料,甜筒]])\n",
    "print('在家的一天的支出,截止17：40分消费',np.sum(一天的消费) ,'元') "
   ]
  }
 ],
 "metadata": {
  "kernelspec": {
   "display_name": "Python 3",
   "language": "python",
   "name": "python3"
  },
  "language_info": {
   "codemirror_mode": {
    "name": "ipython",
    "version": 3
   },
   "file_extension": ".py",
   "mimetype": "text/x-python",
   "name": "python",
   "nbconvert_exporter": "python",
   "pygments_lexer": "ipython3",
   "version": "3.7.3"
  },
  "toc": {
   "base_numbering": 1,
   "nav_menu": {},
   "number_sections": true,
   "sideBar": true,
   "skip_h1_title": false,
   "title_cell": "Table of Contents",
   "title_sidebar": "Contents",
   "toc_cell": false,
   "toc_position": {},
   "toc_section_display": true,
   "toc_window_display": false
  }
 },
 "nbformat": 4,
 "nbformat_minor": 4
}
