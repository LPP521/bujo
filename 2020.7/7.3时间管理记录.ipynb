{
 "cells": [
  {
   "cell_type": "markdown",
   "metadata": {},
   "source": [
    "## time log\n",
    "\n",
    "\n",
    "* [为什么坐车是耗体力的事，坐在地球上却能休息呢？](https://www.zhihu.com/question/20159603)\n",
    "* [打哈欠会“传染”吗？](http://www.xinhuanet.com//science/2019-06/27/c_138175112.htm)\n",
    "* [创造性活动有助大脑调节情绪](http://www.xinhuanet.com/science/2019-05/10/c_138047899.htm)\n",
    "\n",
    "\n",
    "舍弃金钱换时间，牺牲时间换廉价，二选一的抉择。坐车的碎片化时间几乎无法复用的...不过碎片时间可以用来记古诗、名言警句、心中信条。\n",
    "\n",
    "* [在上海，每天通勤时间2小时的你，过得还好吗？](https://kuaibao.qq.com/s/20191021A0HDUN00?refer=spider)\n",
    "\n",
    "我处于第二、三梯队，当然这是我的第一份工作，满一年后离职了。一天24小时，工作是朝九晚六，减去睡觉的五小时，留给我的只有十小时，上下班各一小时，八小时自由支配时间。\n",
    "\n",
    "\n",
    "\n",
    "### e\n",
    "\n",
    "事项管理\n",
    "\n",
    "* [x] 洗澡睡觉\n",
    "* [x] 去医院测视力\n",
    "* [x] 探明眼睛店地点\n",
    "* [x] 公园游走51分钟左右\n",
    "\n",
    "### todo\n",
    "\n",
    "* [ ] 记录明天配镜时间\n",
    "* [ ] 明天阅读时间\n",
    "* [ ] 明天娱乐时间\n",
    "\n",
    "\n",
    "\n",
    "### Introspection\n",
    "\n",
    "买了我妈给我买了一件我不感兴趣的衣服，第一反应表现出相当不满；但随后想到朋友的曾说的话，立即将话题转变为因价值观的不符，浪费不必要的钱的问题。好在今天已经开始尝试用这种思维解答了。\n",
    "\n",
    "\n",
    "* [汇集了清华北大哈佛剑桥学长学姐们的时间管理和考试经验分享，所有人适用--干货版](https://www.bilibili.com/video/BV1g7411m7Hz?from=search&seid=105247462720362421)\n"
   ]
  },
  {
   "cell_type": "code",
   "execution_count": 2,
   "metadata": {},
   "outputs": [
    {
     "data": {
      "image/png": "[encoded data removed]",
      "text/plain": [
       "<Figure size 432x288 with 1 Axes>"
      ]
     },
     "metadata": {
      "needs_background": "light"
     },
     "output_type": "display_data"
    }
   ],
   "source": [
    "import matplotlib.pyplot as plt\n",
    "\n",
    "#折线图\n",
    "x = [5,9,13,17,19]#点的横坐标\n",
    "k1 = [1.8,1.8,1.8,1.8,1.8]#线1的纵坐标\n",
    "k2 = [1.6,1.6,1.6,1.6,1.6]#线2的纵坐标\n",
    "k3 = [1.4,1.4,1.4,1.4,1.4]#线3的纵坐标\n",
    "k4 = [1.2,1.2,1.2,1.2,1.2]#线4的纵坐标\n",
    "\n",
    "# 事件叙述参考 https://www.sohu.com/a/245265827_100018577\n",
    "#s-:方形 红线 重要且紧急（工作及期限）\n",
    "plt.plot(x,k1,'s-',color = 'r',label=\"洗澡睡觉\")\n",
    "#o-:圆形 黄线 重要不紧急 （人际关系与职业规划）\n",
    "plt.plot(x,k2,'o-',color = 'y',label=\"探明眼睛店地点\")\n",
    "#s-:方形 蓝线 不重要但紧急 （房租水电）\n",
    "plt.plot(x,k3,'s-',color = 'b',label=\"估算回去的日期 23日前\")\n",
    "#o-:圆形 青线 不重要不紧急（影音娱乐）\n",
    "plt.plot(x,k4,'o-',color = 'c',label=\"找工作\")\n",
    "plt.xlabel(\"X\")\n",
    "plt.ylabel(\"Y\")\n",
    "plt.legend(loc = \"best\")#图例\n",
    "plt.rcParams['font.sans-serif']=['SimHei'] # 中文\n",
    "plt.show()"
   ]
  }
 ],
 "metadata": {
  "kernelspec": {
   "display_name": "Python 3",
   "language": "python",
   "name": "python3"
  },
  "language_info": {
   "codemirror_mode": {
    "name": "ipython",
    "version": 3
   },
   "file_extension": ".py",
   "mimetype": "text/x-python",
   "name": "python",
   "nbconvert_exporter": "python",
   "pygments_lexer": "ipython3",
   "version": "3.7.3"
  },
  "toc": {
   "base_numbering": 1,
   "nav_menu": {},
   "number_sections": true,
   "sideBar": true,
   "skip_h1_title": false,
   "title_cell": "Table of Contents",
   "title_sidebar": "Contents",
   "toc_cell": false,
   "toc_position": {},
   "toc_section_display": true,
   "toc_window_display": false
  }
 },
 "nbformat": 4,
 "nbformat_minor": 4
}
