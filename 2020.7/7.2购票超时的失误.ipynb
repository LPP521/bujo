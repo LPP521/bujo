{
 "cells": [
  {
   "cell_type": "markdown",
   "metadata": {},
   "source": [
    "### 购票复盘\n",
    "\n",
    "今天准备收拾行李走时，发现物品老是带不齐，想了半天总是好不容易想起漏了些什么。就这样耽搁半小时四十来分钟左右，去往地铁站乘车。来到了高铁站，我没想到的是流感病毒期间，连自动取票机都贴封条了。深圳-郴州还有晚8点的7张高铁票，但下午6半悠哉游哉去现场乘车时再买时，哎呀！没票了...\n",
    "\n",
    "* 这次，提前走时应该罗列一下所带的物品清单 list\n",
    "* 能购到票且发车还有一两小时时间...提前购，再去现场调整也来得及\n",
    "* 没有估算好，重新学习购票进站的时间，以及人口占用概率\n",
    "\n",
    "\n",
    "这次因未知的深圳站、深圳西来去耗时而迟迟不肯买票，浪费了4小时间...\n",
    "\n",
    "* 提前探明摸底车辆站点地图路线，让未知变已知\n",
    "* 深圳站、深圳西，看了地图的大概用时又嫌远、耗时久（一个半小时不到...）\n",
    "* 因嫌一个半小时到达目的地太长，而浪费4小时在做来去车费的选择上...\n",
    "\n",
    "\n",
    "在做规划时，没有明确的重点与非重点考量的目标。\n",
    "\n",
    "* 牺牲时间，换取廉价的火车票\n",
    "* 舍弃金钱换取时间 效率\n",
    "* 做好选择上心理所处被动环境的承受能力\n",
    "\n",
    "我目前的余额够吗？\n",
    "\n",
    "回去确实充裕，再回来时紧张。\n",
    "\n",
    "那我能否忍受6小时以上呢？\n",
    "\n",
    "现在我的精神状态感觉不能，真的想好好休息一下了。\n",
    "\n",
    "如何做好选择上心理所处被动环境的承受能力？\n",
    "\n",
    "主动接受自己的选择，并未自己选择的结果负责。在为自己的选择上做好相应的规划与心理准备。克服恐惧！既然如此，那就选择高铁了，如果不果断就像今天一样了。\n"
   ]
  }
 ],
 "metadata": {
  "kernelspec": {
   "display_name": "Python 3",
   "language": "python",
   "name": "python3"
  },
  "language_info": {
   "codemirror_mode": {
    "name": "ipython",
    "version": 3
   },
   "file_extension": ".py",
   "mimetype": "text/x-python",
   "name": "python",
   "nbconvert_exporter": "python",
   "pygments_lexer": "ipython3",
   "version": "3.7.3"
  },
  "toc": {
   "base_numbering": 1,
   "nav_menu": {},
   "number_sections": true,
   "sideBar": true,
   "skip_h1_title": false,
   "title_cell": "Table of Contents",
   "title_sidebar": "Contents",
   "toc_cell": false,
   "toc_position": {},
   "toc_section_display": true,
   "toc_window_display": false
  }
 },
 "nbformat": 4,
 "nbformat_minor": 4
}
