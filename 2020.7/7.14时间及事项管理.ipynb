{
 "cells": [
  {
   "cell_type": "markdown",
   "metadata": {},
   "source": [
    "### 来一次彻底的放空，只做规定流程的事情\n"
   ]
  },
  {
   "cell_type": "code",
   "execution_count": 1,
   "metadata": {},
   "outputs": [
    {
     "data": {
      "image/png": "[encoded data removed]",
      "text/plain": [
       "<Figure size 432x288 with 1 Axes>"
      ]
     },
     "metadata": {
      "needs_background": "light"
     },
     "output_type": "display_data"
    }
   ],
   "source": [
    "import matplotlib.pyplot as plt\n",
    "\n",
    "#折线图\n",
    "x = [5,9,13,17,19]#点的横坐标\n",
    "k1 = [1.8,1.8,1.8,1.8,1.8]#线1的纵坐标\n",
    "k2 = [1.6,1.6,1.6,1.6,1.6]#线2的纵坐标\n",
    "k3 = [1.4,1.4,1.4,1.4,1.4]#线3的纵坐标\n",
    "k4 = [1.2,1.2,1.2,1.2,1.2]#线4的纵坐标\n",
    "\n",
    "# 事件叙述参考 https://www.sohu.com/a/245265827_100018577\n",
    "#s-:方形 红线 重要且紧急\n",
    "plt.plot(x,k1,'s-',color = 'r',label=\"放空\")\n",
    "#o-:圆形 黄线 重要不紧急 \n",
    "plt.plot(x,k2,'o-',color = 'y',label=\"跳绳\")\n",
    "#s-:方形 蓝线 不重要但紧急 \n",
    "plt.plot(x,k3,'s-',color = 'b',label=\"写字\")\n",
    "#o-:圆形 青线 不重要不紧急\n",
    "plt.plot(x,k4,'o-',color = 'c',label=\"睡觉\")\n",
    "plt.xlabel(\"X\")\n",
    "plt.ylabel(\"Y\")\n",
    "plt.legend(loc = \"best\")#图例\n",
    "plt.rcParams['font.sans-serif']=['SimHei'] # 中文\n",
    "plt.show()"
   ]
  },
  {
   "cell_type": "markdown",
   "metadata": {},
   "source": [
    "记录时间就好了"
   ]
  }
 ],
 "metadata": {
  "kernelspec": {
   "display_name": "Python 3",
   "language": "python",
   "name": "python3"
  },
  "language_info": {
   "codemirror_mode": {
    "name": "ipython",
    "version": 3
   },
   "file_extension": ".py",
   "mimetype": "text/x-python",
   "name": "python",
   "nbconvert_exporter": "python",
   "pygments_lexer": "ipython3",
   "version": "3.7.3"
  },
  "toc": {
   "base_numbering": 1,
   "nav_menu": {},
   "number_sections": true,
   "sideBar": true,
   "skip_h1_title": false,
   "title_cell": "Table of Contents",
   "title_sidebar": "Contents",
   "toc_cell": false,
   "toc_position": {},
   "toc_section_display": true,
   "toc_window_display": false
  }
 },
 "nbformat": 4,
 "nbformat_minor": 4
}
