{
 "cells": [
  {
   "cell_type": "markdown",
   "metadata": {},
   "source": [
    "### 7.10的改良\n",
    "\n",
    "7.10的问题\n",
    "\n",
    "1. 最近老是忘了练字...甚至想不起这回事...\n",
    "2. 照常5点起，早晨一个热水澡，睡了3小时\n",
    "3. 放松开始计时了，继续游玩到回家也想不起要关掉\n",
    "4. 挥霍问题，7.10在家支出46.5元，消费过高\n"
   ]
  },
  {
   "cell_type": "code",
   "execution_count": 1,
   "metadata": {},
   "outputs": [
    {
     "name": "stdout",
     "output_type": "stream",
     "text": [
      "在家的一天的支出,截止17：40分消费 46.5 元\n"
     ]
    }
   ],
   "source": [
    "import numpy as np\n",
    "杀猪粉,饮料,甜筒,烧烤= 8.5,10,2,26\n",
    "一天的消费=np.array([杀猪粉,饮料,甜筒,烧烤])\n",
    "print('在家的一天的支出,截止17：40分消费',np.sum(一天的消费) ,'元') "
   ]
  },
  {
   "cell_type": "markdown",
   "metadata": {},
   "source": [
    "### 改进\n",
    "\n",
    "写字问题\n",
    "\n",
    "* 消遣时间已用在游戏上\n",
    "* 其实晚上也可以写写的\n",
    "\n",
    "早上洗热水效果好像并不好...网上查了原因，洗热水有促进睡眠的作用。\n",
    "\n",
    "#### flexible\n",
    "\n",
    "11、12节假日表调整为工作日表，13-15日准备好一定的现金，体验从资兴到郴州火车站的公交车。\n"
   ]
  }
 ],
 "metadata": {
  "kernelspec": {
   "display_name": "Python 3",
   "language": "python",
   "name": "python3"
  },
  "language_info": {
   "codemirror_mode": {
    "name": "ipython",
    "version": 3
   },
   "file_extension": ".py",
   "mimetype": "text/x-python",
   "name": "python",
   "nbconvert_exporter": "python",
   "pygments_lexer": "ipython3",
   "version": "3.7.3"
  },
  "toc": {
   "base_numbering": 1,
   "nav_menu": {},
   "number_sections": true,
   "sideBar": true,
   "skip_h1_title": false,
   "title_cell": "Table of Contents",
   "title_sidebar": "Contents",
   "toc_cell": false,
   "toc_position": {},
   "toc_section_display": true,
   "toc_window_display": false
  }
 },
 "nbformat": 4,
 "nbformat_minor": 4
}
