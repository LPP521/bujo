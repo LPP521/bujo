{
 "cells": [
  {
   "cell_type": "markdown",
   "metadata": {},
   "source": [
    "## 7.6 优化改\n",
    "\n",
    "### time log 7.7\n",
    "\n",
    "### 起床比对\n",
    "\n",
    "### 7.6 \n",
    "\n",
    "* 11:30左右 - 6:30 （discover：共计8小时，睡眠时间不是很固定）\n",
    "* 吃早餐 9 分钟 （discover：吃得过于大口咽，没有休息）\n",
    "* 卫生间 10 分钟\n",
    "\n",
    "\n",
    "\n",
    "### 7.7\n",
    "\n",
    "* 1:00 - 8：00 反而不如我之前的5小时睡眠，睡得太晚了\n",
    "* 吃早餐 5分钟 放慢速度，然后静静休息了下来，但前半段忘了计时\n",
    "* 练习写个人资料 15 分钟 “学”难写好\n",
    "\n",
    "\n",
    "### bujo\n",
    "\n",
    "* !- get 尝试15分钟清空大脑。\n",
    "* !- 我心里的戾气还是太重了，对待排斥以及被我超越的人或事，抱有鄙夷和不屑。\n",
    "* !- 只顾等餐的过程中，耗费了半小时时间...\n",
    "\n",
    "https://www.zhihu.com/question/33970971 既然遇到了这个问题，那就想办法解决。\n",
    "\n",
    "#### 读书优化\n",
    "\n",
    "7.46左右，2小时20分钟左右看书\n",
    "\n",
    "* 45 - 15（放空大脑） | 45 - 15 | 20 整理\n",
    "\n",
    "优化调整改进。\n",
    "\n",
    "* 疲态的时候不要再去看书了\n",
    "* 正确的坐姿\n",
    "    * 用坐骨支撑上半身，而不是屁股\n",
    "    * 背部挺直\n",
    "    * 肩膀打开\n",
    "    * 不要低头，不要低头，不要低头\n",
    "* 甜食-棒棒糖\n",
    "\n"
   ]
  }
 ],
 "metadata": {
  "kernelspec": {
   "display_name": "Python 3",
   "language": "python",
   "name": "python3"
  },
  "language_info": {
   "codemirror_mode": {
    "name": "ipython",
    "version": 3
   },
   "file_extension": ".py",
   "mimetype": "text/x-python",
   "name": "python",
   "nbconvert_exporter": "python",
   "pygments_lexer": "ipython3",
   "version": "3.7.3"
  },
  "toc": {
   "base_numbering": 1,
   "nav_menu": {},
   "number_sections": true,
   "sideBar": true,
   "skip_h1_title": false,
   "title_cell": "Table of Contents",
   "title_sidebar": "Contents",
   "toc_cell": false,
   "toc_position": {},
   "toc_section_display": true,
   "toc_window_display": false
  }
 },
 "nbformat": 4,
 "nbformat_minor": 4
}
