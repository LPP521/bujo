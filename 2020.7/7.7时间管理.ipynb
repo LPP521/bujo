{
 "cells": [
  {
   "cell_type": "markdown",
   "metadata": {},
   "source": [
    "## 7.6 优化改\n",
    "\n",
    "### time log 7.7\n",
    "\n",
    "### 起床比对\n",
    "\n",
    "### 7.6 \n",
    "\n",
    "* 11:30左右 - 6:30 （discover：共计8小时，睡眠时间不是很固定）\n",
    "* 吃早餐 9 分钟 （discover：吃得过于大口咽，没有休息）\n",
    "* 卫生间 10 分钟\n",
    "\n",
    "> 许多有睡眠问题的人其实并没有入睡上的问题，只是对自己睡眠时间长短有一定预期。如果我们都能弄清自己属于哪一种类型的睡眠模式，并依此调整生活习惯，那么我们的生活质量会得到很大的改善。 - [chinadaily- 真的有“短睡者”吗？](http://www.chinadaily.com.cn/interface/yidian/1083961/2015-08-18/cd_21667325.html)\n",
    "\n",
    "\n",
    "\n",
    "### 7.7\n",
    "\n",
    "* 1:00 - 8：00 反而不如我之前的5小时睡眠，睡得太晚了\n",
    "* 吃早餐 5分钟 放慢速度，然后静静休息了下来，但前半段忘了计时\n",
    "* 练习写个人资料 15 分钟 “学”难写好\n",
    "\n",
    "\n",
    "### bujo\n",
    "\n",
    "* !- get 尝试15分钟清空大脑。\n",
    "* !- 我心里的戾气还是太重了，对待排斥以及被我超越的人或事，抱有鄙夷和不屑。\n",
    "* !- 只顾等餐的过程中，耗费了半小时时间...\n",
    "\n",
    "https://www.zhihu.com/question/33970971 既然遇到了这个问题，那就想办法解决。\n",
    "\n",
    "#### 读书优化\n",
    "\n",
    "##### 睡到3点起来，因与朋友聚会而没继续读书（逃避）\n",
    "\n",
    "\n",
    "* **挑战自己开始，将计时器设置为 30 秒**\n",
    "* **关闭QQ,一开始阻断比不断抵制诱惑要容易得多**\n",
    "\n",
    "我上班每天都按时起床，是不是因为一份工作？一份金钱的奖罚？任务感、使命感？\n",
    "\n",
    "[如何激励自己工作](https://business.tutsplus.com/zh-hans/tutorials/how-to-motivate-yourself--cms-31674)\n",
    "\n",
    "7.46左右，2小时20分钟左右看书\n",
    "\n",
    "* 45 - 15（放空大脑） | 45 - 15 | 20 整理\n",
    "\n",
    "优化调整改进。\n",
    "\n",
    "* 疲态的时候不要再去看书了\n",
    "* 正确的坐姿\n",
    "    * 用坐骨支撑上半身，而不是屁股\n",
    "    * 背部挺直\n",
    "    * 肩膀打开\n",
    "    * 不要低头，不要低头，不要低头\n",
    "* 甜食-棒棒糖\n",
    "\n"
   ]
  },
  {
   "cell_type": "code",
   "execution_count": null,
   "metadata": {},
   "outputs": [],
   "source": []
  }
 ],
 "metadata": {
  "kernelspec": {
   "display_name": "Python 3",
   "language": "python",
   "name": "python3"
  },
  "language_info": {
   "codemirror_mode": {
    "name": "ipython",
    "version": 3
   },
   "file_extension": ".py",
   "mimetype": "text/x-python",
   "name": "python",
   "nbconvert_exporter": "python",
   "pygments_lexer": "ipython3",
   "version": "3.7.3"
  },
  "toc": {
   "base_numbering": 1,
   "nav_menu": {},
   "number_sections": true,
   "sideBar": true,
   "skip_h1_title": false,
   "title_cell": "Table of Contents",
   "title_sidebar": "Contents",
   "toc_cell": false,
   "toc_position": {},
   "toc_section_display": true,
   "toc_window_display": false
  }
 },
 "nbformat": 4,
 "nbformat_minor": 4
}
