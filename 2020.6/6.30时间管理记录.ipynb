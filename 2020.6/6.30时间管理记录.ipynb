{
 "cells": [
  {
   "cell_type": "markdown",
   "metadata": {},
   "source": [
    "### time log\n",
    "\n",
    "之前累计叠加\n",
    "\n",
    "* 睡眠 5小时（6点起床到8点，我似乎比别人多出2小时的时间）\n",
    "* 洗漱 15分钟\n",
    "* 冲凉 8分钟\n",
    "* 睡觉休息 25分钟\n",
    "* 跳绳跑步 35分钟\n",
    "* 吃饭 15分钟\n",
    "* 写日记 53分钟\n",
    "* 大量运动后 休息35分钟（带游戏）\n",
    "* 夏季洗衣与搓澡 25分钟（现象：能够提神，但就是不想学）\n",
    "* 浪费时间3小时（3小时，仅靠吹水聊天才得到这点信息，但这些信息又不能立马有效变现成我的知识）\n",
    "* 求解，给自己三天时间，重组时间管理"
   ]
  },
  {
   "cell_type": "code",
   "execution_count": null,
   "metadata": {},
   "outputs": [],
   "source": []
  }
 ],
 "metadata": {
  "kernelspec": {
   "display_name": "Python 3",
   "language": "python",
   "name": "python3"
  },
  "language_info": {
   "codemirror_mode": {
    "name": "ipython",
    "version": 3
   },
   "file_extension": ".py",
   "mimetype": "text/x-python",
   "name": "python",
   "nbconvert_exporter": "python",
   "pygments_lexer": "ipython3",
   "version": "3.7.3"
  },
  "toc": {
   "base_numbering": 1,
   "nav_menu": {},
   "number_sections": true,
   "sideBar": true,
   "skip_h1_title": false,
   "title_cell": "Table of Contents",
   "title_sidebar": "Contents",
   "toc_cell": false,
   "toc_position": {},
   "toc_section_display": true,
   "toc_window_display": false
  }
 },
 "nbformat": 4,
 "nbformat_minor": 4
}
