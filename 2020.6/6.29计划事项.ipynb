{
 "cells": [
  {
   "cell_type": "markdown",
   "metadata": {},
   "source": [
    "### bujo\n",
    "\n",
    "* [x] 弹首钢琴曲放松一下\n",
    "* [x] 今天观察到的现象记录\n",
    "* [x] 亲戚行为让我恶心，该怎么应对？\n",
    "\n",
    "### 思考碎片\n",
    "\n",
    "我爸小时成绩不好，可能一直被人说蠢，然后真的就像朋友说的认命舒服地过着，自己也认为自己蠢了。加上最近因病说是搞得已经糊涂了，但我看着说话言辞正常有理有据，脑袋真的就糊涂了吗？\n",
    "\n",
    "我最近做了人格测试为INTJ类型，看着对此类型的描述跟星座似的，想到我妹妹是处女座，人是发展改进的，描述定论是结果，怎么能被这些定论给框死了呢？\n",
    "\n",
    "### settle\n",
    "\n",
    "好的习惯即使在最艰难时期，也得保持，培养习惯是难得，不然一切都前功尽弃了，放弃的话，那么当初为什么要使劲学呢，躺着不香？"
   ]
  },
  {
   "cell_type": "code",
   "execution_count": 1,
   "metadata": {},
   "outputs": [
    {
     "data": {
      "image/png": "[encoded data removed]",
      "text/plain": [
       "<Figure size 432x288 with 1 Axes>"
      ]
     },
     "metadata": {
      "needs_background": "light"
     },
     "output_type": "display_data"
    }
   ],
   "source": [
    "\n",
    "import matplotlib.pyplot as plt\n",
    "\n",
    "#折线图\n",
    "x = [5,9,13,17,19]#点的横坐标\n",
    "k1 = [1.8,1.8,1.8,1.8,1.8]#线1的纵坐标\n",
    "k2 = [1.6,1.6,1.6,1.6,1.6]#线2的纵坐标\n",
    "k3 = [1.4,1.4,1.4,1.4,1.4]#线3的纵坐标\n",
    "k4 = [1.2,1.2,1.2,1.2,1.2]#线4的纵坐标\n",
    "\n",
    "# 事件叙述参考 https://www.sohu.com/a/245265827_100018577\n",
    "#s-:方形 红线 重要且紧急\n",
    "plt.plot(x,k1,'s-',color = 'r',label=\"昨天的事件规划\")\n",
    "#o-:圆形 黄线 重要不紧急 \n",
    "plt.plot(x,k2,'o-',color = 'y',label=\"收拾行李准备回家\")\n",
    "#s-:方形 蓝线 不重要但紧急 \n",
    "plt.plot(x,k3,'s-',color = 'b',label=\"钥匙丢了，准备换锁\")\n",
    "#o-:圆形 青线 不重要不紧急\n",
    "plt.plot(x,k4,'o-',color = 'c',label=\"昨天事件思考\")\n",
    "plt.xlabel(\"X\")\n",
    "plt.ylabel(\"Y\")\n",
    "plt.legend(loc = \"best\")#图例\n",
    "plt.rcParams['font.sans-serif']=['SimHei'] # 中文\n",
    "plt.show()"
   ]
  }
 ],
 "metadata": {
  "kernelspec": {
   "display_name": "Python 3",
   "language": "python",
   "name": "python3"
  },
  "language_info": {
   "codemirror_mode": {
    "name": "ipython",
    "version": 3
   },
   "file_extension": ".py",
   "mimetype": "text/x-python",
   "name": "python",
   "nbconvert_exporter": "python",
   "pygments_lexer": "ipython3",
   "version": "3.7.3"
  },
  "toc": {
   "base_numbering": 1,
   "nav_menu": {},
   "number_sections": true,
   "sideBar": true,
   "skip_h1_title": false,
   "title_cell": "Table of Contents",
   "title_sidebar": "Contents",
   "toc_cell": false,
   "toc_position": {},
   "toc_section_display": true,
   "toc_window_display": false
  }
 },
 "nbformat": 4,
 "nbformat_minor": 4
}
