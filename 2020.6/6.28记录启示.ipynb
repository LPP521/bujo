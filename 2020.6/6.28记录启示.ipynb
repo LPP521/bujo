{
 "cells": [
  {
   "cell_type": "markdown",
   "metadata": {},
   "source": [
    "### 耗时记录\n",
    "\n",
    "* 睡眠 5小时\n",
    "* 洗漱 15分钟\n",
    "* 冲凉 8分钟\n",
    "* 睡觉休息 25分钟\n",
    "* 跳绳跑步 35分钟\n",
    "* 吃饭 15分钟\n",
    "* 写日记 53分钟\n",
    "* 大量运动后 休息35分钟（带游戏）\n",
    "* 夏季洗衣与搓澡 25分钟（现象：能够提神，但就是不想学）\n",
    "\n",
    "### bujo\n",
    "\n",
    "* [ ] 弹首钢琴曲放松一下\n",
    "* [ ] 今天观察到的现象记录\n",
    "* !- 写日记从单纯记录生活、景色到进行观察现象的自我总结，现在又将现象总结写入jupyter，从日记分离出去。\n",
    "\n",
    "### 幸存者偏差\n",
    "\n",
    "我都在想，这个IT编程开发行业都这么卷了，还老是是说学历不重要，技术才是最重要的，我同事是阿里公司的P8，高中学历，blblabla。先暂且不论真假，可他们为什么还光瞧贼吃肉，不见贼挨打呢？瞧见贼吃肉只是凭运气时势，难道肯定对方实力有这么难吗？\n",
    "\n",
    "如果这件事为假：那么阴谋论的意味就十分的足，利用幸存者偏差，使一部分人任性地放飞自我，殊不知我们大多数人初入业界其实一开始并没有瞩目的成绩，在看不到个人在业界的瞩目成绩的情况下，业界瞩目的成绩本身就是少数顶尖群体或极端优异者，所以多数还是吃学历的，没学历连筛选这一关都过不了。那么，他言行背后的此举目的，还不就是保持自己优势的同时，减少其的竞争就业压力。\n",
    "\n",
    "### 铁饭碗与竞争\n",
    "\n"
   ]
  },
  {
   "cell_type": "code",
   "execution_count": null,
   "metadata": {},
   "outputs": [],
   "source": [
    "精力不足，待续..."
   ]
  }
 ],
 "metadata": {
  "kernelspec": {
   "display_name": "Python 3",
   "language": "python",
   "name": "python3"
  },
  "language_info": {
   "codemirror_mode": {
    "name": "ipython",
    "version": 3
   },
   "file_extension": ".py",
   "mimetype": "text/x-python",
   "name": "python",
   "nbconvert_exporter": "python",
   "pygments_lexer": "ipython3",
   "version": "3.7.3"
  },
  "toc": {
   "base_numbering": 1,
   "nav_menu": {},
   "number_sections": true,
   "sideBar": true,
   "skip_h1_title": false,
   "title_cell": "Table of Contents",
   "title_sidebar": "Contents",
   "toc_cell": false,
   "toc_position": {},
   "toc_section_display": true,
   "toc_window_display": false
  }
 },
 "nbformat": 4,
 "nbformat_minor": 4
}
