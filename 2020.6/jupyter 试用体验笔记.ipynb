{
 "cells": [
  {
   "cell_type": "markdown",
   "metadata": {
    "tags": [
     "试用体验"
    ]
   },
   "source": [
    "# jupyter 体验\n",
    "\n",
    "\n",
    "看着网上的博客文章长篇大论，一开始以为jupyter有多难呢？没想到这么简单，用一个实例自己实践各种体验一下就会了。安装方面，由于国情换个镜像源就好了。\n",
    "\n",
    "`pip3 install jupyter -i http://pypi.douban.com/simple/ --trusted-host pypi.douban.com`\n",
    "\n",
    "参考资料：\n",
    "\n",
    "* [jupyter安装及目录生成](https://www.cnblogs.com/jayafsmw/p/12286580.html)\n",
    "* [那些在线的Jupyter](https://blog.csdn.net/hxpjava1/article/details/86763331)\n",
    "\n",
    "新建 -> notebook -> python3 创建的文件即为.ipynb格式，创建其他文本又是不同编辑界面风格。本打算将jupyter作为GitHub笔记用的，也正好利用jupyter这编译的特性，顺便也把python给学了；不过，jupyter操作界面上手体验似乎远不如word、vscode、typora...瑕不掩瑜。\n",
    "\n",
    "将我的私有bujo repo使用jupyter notebook作为我的日常时间管理记录，看上去应该挺不错的样子。写完这篇体验文后，也应该考虑以后用dir整理归纳一番。\n",
    "\n",
    "\n",
    "---\n",
    "## 6.26\n",
    "\n",
    "bujo\n",
    "\n",
    "* [x] 安装jupyter \n",
    "* [x] 了解并输出jupyter目录结构\n",
    "* [x] 熟悉并运用.ipynb书写以及存储格式 \n",
    "* !- 在用jupyter对网络（考证、理论应用）做笔记时，顺便也可把python转化为学以致用提高竞争力的辅助工具\n",
    "\n",
    "耗时记录\n",
    "\n",
    "* 起床：5小时\n",
    "* 洗漱：20分钟\n",
    "* 吃饭：15分钟\n",
    "\n"
   ]
  },
  {
   "cell_type": "code",
   "execution_count": 1,
   "metadata": {},
   "outputs": [
    {
     "name": "stdout",
     "output_type": "stream",
     "text": [
      "helloworld\n"
     ]
    }
   ],
   "source": [
    "print(\"helloworld\")"
   ]
  }
 ],
 "metadata": {
  "kernelspec": {
   "display_name": "Python 3",
   "language": "python",
   "name": "python3"
  },
  "language_info": {
   "codemirror_mode": {
    "name": "ipython",
    "version": 3
   },
   "file_extension": ".py",
   "mimetype": "text/x-python",
   "name": "python",
   "nbconvert_exporter": "python",
   "pygments_lexer": "ipython3",
   "version": "3.7.3"
  },
  "toc": {
   "base_numbering": 1,
   "nav_menu": {},
   "number_sections": true,
   "sideBar": true,
   "skip_h1_title": false,
   "title_cell": "Table of Contents",
   "title_sidebar": "Contents",
   "toc_cell": false,
   "toc_position": {},
   "toc_section_display": true,
   "toc_window_display": false
  }
 },
 "nbformat": 4,
 "nbformat_minor": 4
}
