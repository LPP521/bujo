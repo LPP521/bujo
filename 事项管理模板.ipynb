{
 "cells": [
  {
   "cell_type": "markdown",
   "metadata": {},
   "source": [
    "### Template\n",
    "\n",
    "\n",
    "* bujo 基本格式 + markdown 做笔记\n",
    "* 四象限事项优化三类线性事项\n",
    "* RPA表格简\n",
    "* flexible 不断地总结、调整、优化\n",
    "\n",
    "\n",
    "### bujo format\n",
    "\n",
    "把相同类似的事情放在一起做，利用碎片化的时间做比较轻松且可以快速解决的事情。每天集中学习一个学科，这样就不用多消耗精力在重新适应不同新的事物，也利于减轻疲劳。每周达成目标并以游戏为奖励方式复用式的释放压力。\n",
    "\n",
    "\n",
    "\n",
    "* 短期目标服务于中期，中期目标服务长期，divide & conquer\n",
    "* 碎片化时间：\n",
    "    * 把写字（不把写字当作学习）作为我的无脑绘画，像小孩一样轻松写意\n",
    "    * 需要记忆的东西来当作畅想（模拟情景、梦境再进行回读）\n",
    "* 每天 **留有很短的时间** 做 **一件** **固定**的事情（可操作可持续）\n",
    "\n",
    "\n",
    "```\n",
    "* !- 想法、灵感！\n",
    "* - 标记分散掉要学习的全部多项学科，每天只学一项学科，但每天都学习不同的学科\n",
    "* * focus 集中学习一个学科\n",
    "\n",
    "```\n",
    "\n",
    "GTD（清空内存使大脑能高效工作）+番茄（专注）\n",
    "\n",
    "\n",
    "### abc line\n",
    "\n"
   ]
  },
  {
   "cell_type": "code",
   "execution_count": 5,
   "metadata": {
    "scrolled": true
   },
   "outputs": [
    {
     "data": {
      "image/png": "[encoded data removed]",
      "text/plain": [
       "<Figure size 432x288 with 1 Axes>"
      ]
     },
     "metadata": {
      "needs_background": "light"
     },
     "output_type": "display_data"
    }
   ],
   "source": [
    "import matplotlib.pyplot as plt\n",
    "\n",
    "#折线图\n",
    "x = [5,9,13,17,19]#点的横坐标\n",
    "k1 = [1.8,1.8,1.8,1.8,1.8]#线1的纵坐标\n",
    "k2 = [1.6,1.6,1.6,1.6,1.6]#线2的纵坐标\n",
    "k3 = [1.4,1.4,1.4,1.4,1.4]#线3的纵坐标\n",
    "k4 = [1.2,1.2,1.2,1.2,1.2]#线4的纵坐标\n",
    "\n",
    "# 事件叙述参考 https://www.sohu.com/a/245265827_100018577\n",
    "#s-:方形 红线 重要且紧急\n",
    "plt.plot(x,k1,'s-',color = 'r',label=\"重要且紧急\")\n",
    "#o-:圆形 黄线 重要不紧急 \n",
    "plt.plot(x,k2,'o-',color = 'y',label=\"重要不紧急\")\n",
    "#s-:方形 蓝线 不重要但紧急 \n",
    "plt.plot(x,k3,'s-',color = 'b',label=\"不重要但紧急\")\n",
    "#o-:圆形 青线 不重要不紧急\n",
    "plt.plot(x,k4,'o-',color = 'c',label=\"不重要不紧急（娱乐以奖励形式去做）\")\n",
    "plt.xlabel(\"X\")\n",
    "plt.ylabel(\"Y\")\n",
    "plt.legend(loc = \"best\")#图例\n",
    "plt.rcParams['font.sans-serif']=['SimHei'] # 中文\n",
    "plt.show()"
   ]
  },
  {
   "cell_type": "markdown",
   "metadata": {},
   "source": [
    "### table\n",
    "\n",
    "长期计划\n"
   ]
  },
  {
   "cell_type": "code",
   "execution_count": 7,
   "metadata": {},
   "outputs": [
    {
     "name": "stdout",
     "output_type": "stream",
     "text": [
      "时间管理RPA表单\n",
      "+------------+--------------------+----------+------------------------+\n",
      "| 反思Recall |        记录        | 计划Plan |          记录          |\n",
      "+------------+--------------------+----------+------------------------+\n",
      "|  回顾事件  |     日、周、月     |   梦想   |  短期及长期目标、宗旨  |\n",
      "|  分析原因  | 月度检视、年度理想 |   关注   | 理财、社交、效率、学习 |\n",
      "|  更新计划  | 调整日、周、月项目 |   项目   |       日周月计划       |\n",
      "+------------+--------------------+----------+------------------------+\n"
     ]
    }
   ],
   "source": [
    "from prettytable import PrettyTable\n",
    "print (\"时间管理RPA表单\")\n",
    "table = PrettyTable()\n",
    "table.add_column('反思Recall',['回顾事件','分析原因','更新计划'])\n",
    "table.add_column('记录',['日、周、月','月度检视、年度理想','调整日、周、月项目'])\n",
    "table.add_column('计划Plan',['梦想','关注','项目'])\n",
    "table.add_column('记录',['短期及长期目标、宗旨','理财、社交、效率、学习','日周月计划'])\n",
    "#table.add_column('行动Action',['记录','排程','执行'])\n",
    "#table.add_column('行动Action',['清空再来回顾流程','事件的紧急程度','执行方式（处理、委托、推迟）'])\n",
    "print(table)"
   ]
  }
 ],
 "metadata": {
  "kernelspec": {
   "display_name": "Python 3",
   "language": "python",
   "name": "python3"
  },
  "language_info": {
   "codemirror_mode": {
    "name": "ipython",
    "version": 3
   },
   "file_extension": ".py",
   "mimetype": "text/x-python",
   "name": "python",
   "nbconvert_exporter": "python",
   "pygments_lexer": "ipython3",
   "version": "3.7.3"
  },
  "toc": {
   "base_numbering": 1,
   "nav_menu": {},
   "number_sections": true,
   "sideBar": true,
   "skip_h1_title": false,
   "title_cell": "Table of Contents",
   "title_sidebar": "Contents",
   "toc_cell": false,
   "toc_position": {},
   "toc_section_display": true,
   "toc_window_display": false
  }
 },
 "nbformat": 4,
 "nbformat_minor": 4
}
