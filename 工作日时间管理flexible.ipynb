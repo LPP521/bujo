{
 "cells": [
  {
   "cell_type": "markdown",
   "metadata": {},
   "source": [
    "## 工作日拟定\n",
    "\n",
    "\n",
    "我的睡眠时间是 4至5小时（非恒定）\n",
    "\n",
    "\n",
    "### 早晨自由时间估算\n",
    "\n",
    "假设我4点起来，早晨基础耗时半小时，再加上吃早餐近5点。8：30上班，一小时的车程，意味着7点10之间的这段时间就要出门。\n",
    "\n",
    "* 早晨基础耗时半小时余左右\n",
    "    * 洗漱 15分钟左右\n",
    "    * 冲凉 10分钟左右\n",
    "    * 外出 7分钟左右\n",
    "\n",
    "早晨自由时间有2小时左右，这段时间就可以静下心来充分读书学习。\n",
    "\n",
    "### 各一小时上下班碎片时间复用\n",
    "\n",
    "\n",
    "记录下与整理之前的读书心得，回想自己的短期及长期目标\n",
    "\n",
    "\n",
    "### 午睡时间利用\n",
    "\n",
    "近1点间，小睡半小时，划分待办事项\n",
    "\n",
    "\n",
    "### 965回到家的自由时间\n",
    "\n",
    "晚7点20分左右到家，休息25分钟，近8点。\n",
    "\n",
    "\n",
    "* 夏季洗衣与搓澡 25分钟\n",
    "\n",
    "8点半至10点半之间，需要完成并结束当天的手里工作。\n",
    "\n",
    "* 整理资料排列待办事项 50分钟左右\n",
    "* 写日记 45分钟左右\n",
    "\n",
    "10点半躺床进入睡眠适应期，开始入睡。\n",
    "\n"
   ]
  }
 ],
 "metadata": {
  "kernelspec": {
   "display_name": "Python 3",
   "language": "python",
   "name": "python3"
  },
  "language_info": {
   "codemirror_mode": {
    "name": "ipython",
    "version": 3
   },
   "file_extension": ".py",
   "mimetype": "text/x-python",
   "name": "python",
   "nbconvert_exporter": "python",
   "pygments_lexer": "ipython3",
   "version": "3.7.3"
  },
  "toc": {
   "base_numbering": 1,
   "nav_menu": {},
   "number_sections": true,
   "sideBar": true,
   "skip_h1_title": false,
   "title_cell": "Table of Contents",
   "title_sidebar": "Contents",
   "toc_cell": false,
   "toc_position": {},
   "toc_section_display": true,
   "toc_window_display": false
  }
 },
 "nbformat": 4,
 "nbformat_minor": 4
}
