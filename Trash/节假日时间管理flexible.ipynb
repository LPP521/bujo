{
 "cells": [
  {
   "cell_type": "markdown",
   "metadata": {},
   "source": [
    "## 节假日拟定\n",
    "\n",
    "\n",
    "* 跳绳跑步 35分钟\n",
    "* 看动漫2小时15分钟左右\n",
    "* 写日记 近60分钟\n",
    "\n",
    "### 早晨自由时间估算\n",
    "\n",
    "假设我4点起来，早晨基础耗时半小时，再加上吃早餐近5点。8：30上班，一小时的车程，意味着7点10之间的这段时间就要出门。\n",
    "\n",
    "* 早晨基础耗时半小时余左右\n",
    "    * 洗漱 15分钟左右\n",
    "    * 冲凉 10分钟左右\n",
    "    * 外出 7分钟左右\n",
    "\n",
    "早晨自由时间有2小时左右，复习书本/学科。\n",
    "\n",
    "\n",
    "### 7点10间的假日空档\n",
    "\n",
    "\n",
    "* 跳绳 35分钟左右\n",
    "* 休息 25分钟之间\n",
    "* 洗澡 15 分钟\n",
    "\n",
    "\n",
    "#### 85工作式\n",
    "\n",
    "8点30分左右，学习新的学科，11点半结束。\n",
    "\n",
    "\n",
    "### 午睡时间30分钟\n",
    "\n",
    "* 洗衣及洗澡25分钟左右\n",
    "\n",
    "### 1点半至5点整\n",
    "\n",
    "3小时半，继续学习研究。5点30之前，结束掉学习，然后外出吃晚餐。\n",
    "\n",
    "\n",
    "### 自由时间\n",
    "\n",
    "\n",
    "近傍晚6点散步，近6点45分钟左右到家，休息15分钟。7点-10半留有3小时半自由时间。\n",
    "\n",
    "\n",
    "* 整理资料排列待办事项 50分钟左右\n",
    "* 写日记 45分钟左右\n",
    "\n",
    "10点半躺床进入睡眠适应期，开始入睡。\n"
   ]
  }
 ],
 "metadata": {
  "kernelspec": {
   "display_name": "Python 3",
   "language": "python",
   "name": "python3"
  },
  "language_info": {
   "codemirror_mode": {
    "name": "ipython",
    "version": 3
   },
   "file_extension": ".py",
   "mimetype": "text/x-python",
   "name": "python",
   "nbconvert_exporter": "python",
   "pygments_lexer": "ipython3",
   "version": "3.7.3"
  },
  "toc": {
   "base_numbering": 1,
   "nav_menu": {},
   "number_sections": true,
   "sideBar": true,
   "skip_h1_title": false,
   "title_cell": "Table of Contents",
   "title_sidebar": "Contents",
   "toc_cell": false,
   "toc_position": {},
   "toc_section_display": true,
   "toc_window_display": false
  }
 },
 "nbformat": 4,
 "nbformat_minor": 4
}
