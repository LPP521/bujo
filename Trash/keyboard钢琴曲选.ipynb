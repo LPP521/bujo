{
 "cells": [
  {
   "cell_type": "markdown",
   "metadata": {},
   "source": [
    "### 钢琴曲选\n",
    "\n",
    "顺其自然，一直去追求反而失去了放松身心的目的。一个人专精那么多也不现实，但会一点点总是好的\n",
    "\n",
    "* 你的名字\n",
    "* 紫罗兰永恒花园\n",
    "* 送别\n",
    "* 天空之城\n",
    "* 天气之子\n",
    "* 欢乐颂\n",
    "* 莫失莫忘\n",
    "* 祝你生日快乐\n",
    "* 笑傲江湖\n",
    "* 友谊天长地久"
   ]
  }
 ],
 "metadata": {
  "kernelspec": {
   "display_name": "Python 3",
   "language": "python",
   "name": "python3"
  },
  "language_info": {
   "codemirror_mode": {
    "name": "ipython",
    "version": 3
   },
   "file_extension": ".py",
   "mimetype": "text/x-python",
   "name": "python",
   "nbconvert_exporter": "python",
   "pygments_lexer": "ipython3",
   "version": "3.7.3"
  },
  "toc": {
   "base_numbering": 1,
   "nav_menu": {},
   "number_sections": true,
   "sideBar": true,
   "skip_h1_title": false,
   "title_cell": "Table of Contents",
   "title_sidebar": "Contents",
   "toc_cell": false,
   "toc_position": {},
   "toc_section_display": true,
   "toc_window_display": false
  }
 },
 "nbformat": 4,
 "nbformat_minor": 4
}
