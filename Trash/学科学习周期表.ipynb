{
 "cells": [
  {
   "cell_type": "code",
   "execution_count": 1,
   "metadata": {},
   "outputs": [
    {
     "name": "stdout",
     "output_type": "stream",
     "text": [
      "学科学习周期表\n",
      "+------+------------------+\n",
      "| 周期 |       学科       |\n",
      "+------+------------------+\n",
      "|  一  |    非暴力沟通    |\n",
      "|  二  |    非暴力沟通    |\n",
      "|  三  |    共情的力量    |\n",
      "|  四  |    共情的力量    |\n",
      "|  五  |  两本书归纳纲领  |\n",
      "|  六  | 复习与学习新学科 |\n",
      "|  日  |  继续学习新学科  |\n",
      "+------+------------------+\n"
     ]
    }
   ],
   "source": [
    "from prettytable import PrettyTable\n",
    "print (\"学科学习周期表\")\n",
    "table = PrettyTable()\n",
    "table.add_column('周期',['一','二','三','四','五','六','日'])\n",
    "table.add_column('学科',['非暴力沟通','非暴力沟通','共情的力量','共情的力量','两本书归纳纲领','复习与学习新学科','继续学习新学科'])\n",
    "print(table)"
   ]
  },
  {
   "cell_type": "markdown",
   "metadata": {},
   "source": [
    "主动接受自己的选择，并对自己选择的结果负责。在为自己的选择上做好相应的规划与心理准备。克服恐惧！这期间，碎片可以用来左手写字，回想自己的初心。\n",
    "\n",
    "\n",
    "我似乎更应该以幽默的方式去感知和看待我所经历的这一切。善待身边每一个人，达观处世，凡事将格局放大、眼界方开阔，人才能豁达又潇洒，要做到内省，规范自己的言行，加上一颗仁慈（严于律己，宽以待人）之心。\n",
    "\n",
    "好的习惯即使在最艰难时期，也得保持，培养习惯是难得，不然一切都前功尽弃了，放弃的话，那么当初为什么要使劲学呢，躺着不香？\n",
    "\n",
    "这篇[sohu-在学习工作中，怎么样休息才能让自己满血复活、恢复精力和斗志？ ](https://www.sohu.com/a/359352030_120113465)文章倒是对我有一定的警醒价值。\n",
    "\n",
    "> 冷静下来，将眼前的困难拆解成很多个容易被解决的事情，然后逐一解决，每解决一个小目标，就转移一下注意力去做一些自己喜欢、热爱的事情，比如写文章，做顿饭，散步，与好友聊天等犒劳奖赏一下自己，保持身心健康，保持心情愉悦，重新点燃对生活、工作、学习的热情。这就是好好休息。 - 耿向顺\n"
   ]
  }
 ],
 "metadata": {
  "kernelspec": {
   "display_name": "Python 3",
   "language": "python",
   "name": "python3"
  },
  "language_info": {
   "codemirror_mode": {
    "name": "ipython",
    "version": 3
   },
   "file_extension": ".py",
   "mimetype": "text/x-python",
   "name": "python",
   "nbconvert_exporter": "python",
   "pygments_lexer": "ipython3",
   "version": "3.7.3"
  },
  "toc": {
   "base_numbering": 1,
   "nav_menu": {},
   "number_sections": true,
   "sideBar": true,
   "skip_h1_title": false,
   "title_cell": "Table of Contents",
   "title_sidebar": "Contents",
   "toc_cell": false,
   "toc_position": {},
   "toc_section_display": true,
   "toc_window_display": false
  }
 },
 "nbformat": 4,
 "nbformat_minor": 4
}
