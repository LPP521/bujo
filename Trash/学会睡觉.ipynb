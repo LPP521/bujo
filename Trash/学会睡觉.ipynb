{
 "cells": [
  {
   "cell_type": "markdown",
   "metadata": {},
   "source": [
    "## 7.8追加！\n",
    "\n",
    "* 早上在晨光中散步，会缩短睡眠周期\n",
    "* 锻炼能缩短你的睡眠周期\n",
    "* 白天睡觉不宜超过一小时\n",
    "* 在上床一小时之前，停止强脑力活动，可看一些简易读本或喜剧电视片\n",
    "* 等困了才上床\n",
    "\n",
    "> 参考 [为什么我明明很困。但是一躺在床上就变得更精神了，还得翻来覆去1.5个小时才能睡觉？](https://www.pai-hang-bang.com/ap-yngagaassesaesaecv.html)\n",
    "\n",
    "## 原来睡觉也是一门学问\n",
    "\n",
    "\n",
    "* [为什么有的人平躺会睡不着？](https://www.zhihu.com/question/363043776)\n",
    "* [如何健康的安排睡眠时间？](https://www.zhihu.com/question/20943626)\n",
    "\n",
    "注意事项太多了，看来也得分步骤来做，《睡眠革命》...我想已经成体系了，我开始考虑如何睡觉了，说明睡眠质量真的不太好。\n",
    "\n",
    "* 90分钟的睡前适应期，在这10.30之前就应该洗个热水澡，这也意味着我今天的工作也结束了\n",
    "    * 10点放下手头的工作，30分钟内暗示自己今日事已完成，其他事情留待明天\n",
    "    * 睡前60分钟不接触手机与电脑\n",
    "    * 也就是说12点睡，10.30就应该开始做好准备\n",
    "* 躺床婴儿睡姿，\n",
    "* 午睡30分钟\n",
    "* 饮食清淡， 每天喝2升水，控制体温\n",
    "* 下午时不喝含咖啡因的饮料，晚上少喝水\n",
    "* 傍晚可适当进行短距离散步\n",
    "* 趴着睡坏处太大了\n",
    "* 想起我在五院午睡的时候，都是先完全放松（满足感），再睡的呀（我适合右侧卧）\n",
    "    * 自我暗示放松，身体有意识“下沉”\n",
    "    * 感受平静，专注呼吸\n",
    "* [睡觉放松方式](https://www.zhihu.com/question/21367788/answer/347042533)\n",
    "\n",
    "\n",
    "\n",
    "**睡不好觉容易囤积脂肪，也就是长膘！**\n",
    "\n",
    "\n",
    "### 如何判断睡个好觉\n",
    "\n",
    "1. 入睡快，在 30 分钟内入睡\n",
    "2. 睡眠深，呼吸深长，中途很少醒来\n",
    "3. 早晨不赖床，起床后精神好\n",
    "4. 白天头脑清醒，精力充沛\n",
    "\n",
    "***7.5 特别标记***"
   ]
  },
  {
   "cell_type": "code",
   "execution_count": 1,
   "metadata": {},
   "outputs": [
    {
     "data": {
      "image/png": "[encoded data removed]",
      "text/plain": [
       "<Figure size 432x288 with 1 Axes>"
      ]
     },
     "metadata": {
      "needs_background": "light"
     },
     "output_type": "display_data"
    }
   ],
   "source": [
    "import matplotlib.pyplot as plt\n",
    "\n",
    "#折线图\n",
    "x = [5,9,13,17,19]#点的横坐标\n",
    "k1 = [1.8,1.8,1.8,1.8,1.8]#线1的纵坐标\n",
    "k2 = [1.6,1.6,1.6,1.6,1.6]#线2的纵坐标\n",
    "k3 = [1.4,1.4,1.4,1.4,1.4]#线3的纵坐标\n",
    "k4 = [1.2,1.2,1.2,1.2,1.2]#线4的纵坐标\n",
    "\n",
    "# 事件叙述参考 https://www.sohu.com/a/245265827_100018577\n",
    "#s-:方形 红线 重要且紧急\n",
    "plt.plot(x,k1,'s-',color = 'r',label=\"学会睡觉（每天达成多项其中任意一项条件即可）\")\n",
    "#o-:圆形 黄线 重要不紧急 \n",
    "plt.plot(x,k2,'o-',color = 'y',label=\"看动漫\")\n",
    "#s-:方形 蓝线 不重要但紧急 \n",
    "plt.plot(x,k3,'s-',color = 'b',label=\"左手写字\")\n",
    "#o-:圆形 青线 不重要不紧急\n",
    "plt.plot(x,k4,'o-',color = 'c',label=\"试玩娱乐游戏\")\n",
    "plt.xlabel(\"X\")\n",
    "plt.ylabel(\"Y\")\n",
    "plt.legend(loc = \"best\")#图例\n",
    "plt.rcParams['font.sans-serif']=['SimHei'] # 中文\n",
    "plt.show()"
   ]
  },
  {
   "cell_type": "markdown",
   "metadata": {},
   "source": []
  }
 ],
 "metadata": {
  "kernelspec": {
   "display_name": "Python 3",
   "language": "python",
   "name": "python3"
  },
  "language_info": {
   "codemirror_mode": {
    "name": "ipython",
    "version": 3
   },
   "file_extension": ".py",
   "mimetype": "text/x-python",
   "name": "python",
   "nbconvert_exporter": "python",
   "pygments_lexer": "ipython3",
   "version": "3.7.3"
  },
  "toc": {
   "base_numbering": 1,
   "nav_menu": {},
   "number_sections": true,
   "sideBar": true,
   "skip_h1_title": false,
   "title_cell": "Table of Contents",
   "title_sidebar": "Contents",
   "toc_cell": false,
   "toc_position": {},
   "toc_section_display": true,
   "toc_window_display": false
  }
 },
 "nbformat": 4,
 "nbformat_minor": 4
}
