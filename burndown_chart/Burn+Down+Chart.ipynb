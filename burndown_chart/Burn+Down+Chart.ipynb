{
 "cells": [
  {
   "cell_type": "markdown",
   "metadata": {},
   "source": [
    "# 你只需要修改下面这一个格子中的三个数据"
   ]
  },
  {
   "cell_type": "code",
   "execution_count": 1,
   "metadata": {
    "collapsed": true
   },
   "outputs": [],
   "source": [
    "# 项目的开始日期，修改单引号中的内容\n",
    "start_time = '2018-12-01'\n",
    "\n",
    "# 项目的结束日期，修改单引号中的内容\n",
    "end_time = '2018-12-07'\n",
    "\n",
    "# excel文件的路径，修改单引号中的内容\n",
    "excel_path = '/Users/kingname/Desktop/test.xlsx'"
   ]
  },
  {
   "cell_type": "markdown",
   "metadata": {},
   "source": [
    "# 下面的内容你不需要做任何修改"
   ]
  },
  {
   "cell_type": "code",
   "execution_count": 2,
   "metadata": {},
   "outputs": [],
   "source": [
    "import pandas as pd\n",
    "df = pd.read_excel(excel_path, header=1)"
   ]
  },
  {
   "cell_type": "code",
   "execution_count": 3,
   "metadata": {},
   "outputs": [],
   "source": [
    "import datetime\n",
    "\n",
    "start_time_obj = datetime.datetime.strptime(start_time, '%Y-%m-%d')\n",
    "end_time_obj = datetime.datetime.strptime(end_time, '%Y-%m-%d')"
   ]
  },
  {
   "cell_type": "code",
   "execution_count": 4,
   "metadata": {},
   "outputs": [
    {
     "data": {
      "text/plain": [
       "25.0"
      ]
     },
     "execution_count": 4,
     "metadata": {},
     "output_type": "execute_result"
    }
   ],
   "source": [
    "work_load = df.loc[df.index[0]].sum()\n",
    "work_load"
   ]
  },
  {
   "cell_type": "code",
   "execution_count": 5,
   "metadata": {},
   "outputs": [],
   "source": [
    "date_list = []\n",
    "data_list = []\n",
    "for day in range((end_time_obj - start_time_obj).days + 1):\n",
    "    date_list.append(start_time_obj + datetime.timedelta(days=day))\n",
    "    data_list.append(work_load * (1 - day / ((end_time_obj - start_time_obj).days)))"
   ]
  },
  {
   "cell_type": "code",
   "execution_count": 6,
   "metadata": {},
   "outputs": [],
   "source": [
    "import numpy as np\n",
    "class Task(object):\n",
    "\n",
    "    __slots__ = ['start_date', 'end_date', 'day_remain_hour_dict', 'task_name', 'date_list']\n",
    "\n",
    "    def __init__(self, name):\n",
    "        self.task_name = name\n",
    "        self.start_date = None\n",
    "        self.end_date = None\n",
    "        self.date_list = []\n",
    "        self.day_remain_hour_dict = {}\n",
    "\n",
    "    def get_reamined_hour(self, date):\n",
    "        if self.end_date and date >= self.end_date:\n",
    "            return 0\n",
    "        return self.day_remain_hour_dict[date]\n",
    "\n",
    "    def set_day_remain_hour(self, date, remain_hour):\n",
    "        if np.isnan(remain_hour):\n",
    "            remain_hour = self.day_remain_hour_dict[self.date_list[-1]]\n",
    "        self.day_remain_hour_dict[date] = remain_hour\n",
    "        if remain_hour <= 0:\n",
    "            self.end_date = date\n",
    "        self.date_list.append(date)\n",
    "\n",
    "    def __repr__(self):\n",
    "        return f'task_name: {self.task_name}, end at: {self.end_date}'\n",
    "        "
   ]
  },
  {
   "cell_type": "code",
   "execution_count": 7,
   "metadata": {
    "collapsed": true
   },
   "outputs": [],
   "source": [
    "task_obj_list = []\n",
    "def prepare_task_obj(task_df):\n",
    "    task_name_list = task_df.columns.values\n",
    "    date_delta = (task_df.index[-1] - task_df.index[0]).days\n",
    "    for task_name in task_name_list:\n",
    "        task_series = task_df[task_name]\n",
    "        if task_series.isnull().all():\n",
    "            continue\n",
    "        task_obj = Task(task_name)\n",
    "        for date in date_list:\n",
    "            if date not in task_df.index:\n",
    "                task_obj.set_day_remain_hour(date, task_obj.get_reamined_hour(task_obj.date_list[-1]))\n",
    "            else:\n",
    "                task_obj.set_day_remain_hour(date, task_series.loc[date])\n",
    "        task_obj_list.append(task_obj)"
   ]
  },
  {
   "cell_type": "code",
   "execution_count": 8,
   "metadata": {},
   "outputs": [],
   "source": [
    "prepare_task_obj(df)"
   ]
  },
  {
   "cell_type": "code",
   "execution_count": 9,
   "metadata": {},
   "outputs": [
    {
     "data": {
      "text/plain": [
       "[25.0, 15.0, 19.0, 13.0, 13.0, 6.0, 6.0]"
      ]
     },
     "execution_count": 9,
     "metadata": {},
     "output_type": "execute_result"
    }
   ],
   "source": [
    "remain_hour_list = []\n",
    "for date in date_list:\n",
    "    remain_hour_list.append(sum([x.day_remain_hour_dict[date] for x in task_obj_list]))\n",
    "remain_hour_list"
   ]
  },
  {
   "cell_type": "code",
   "execution_count": 11,
   "metadata": {},
   "outputs": [
    {
     "data": {
      "text/plain": [
       "Text(0.5,0,'date')"
      ]
     },
     "execution_count": 11,
     "metadata": {},
     "output_type": "execute_result"
    },
    {
     "data": {
      "image/png": "[encoded data removed]",
      "text/plain": [
       "<matplotlib.figure.Figure at 0x101c14c18>"
      ]
     },
     "metadata": {},
     "output_type": "display_data"
    }
   ],
   "source": [
    "%matplotlib inline\n",
    "\n",
    "import matplotlib.pyplot as plt\n",
    "plt.rcParams[\"figure.figsize\"] = (10, 6)\n",
    "plt.style.use('seaborn-whitegrid')\n",
    "plt.plot(date_list, data_list)\n",
    "plt.plot(date_list, remain_hour_list)\n",
    "plt.ylabel('remain hours')\n",
    "plt.xlabel('date')"
   ]
  },
  {
   "cell_type": "code",
   "execution_count": null,
   "metadata": {},
   "outputs": [],
   "source": []
  },
  {
   "cell_type": "code",
   "execution_count": null,
   "metadata": {
    "collapsed": true
   },
   "outputs": [],
   "source": []
  }
 ],
 "metadata": {
  "kernelspec": {
   "display_name": "Python 3",
   "language": "python",
   "name": "python3"
  },
  "language_info": {
   "codemirror_mode": {
    "name": "ipython",
    "version": 3
   },
   "file_extension": ".py",
   "mimetype": "text/x-python",
   "name": "python",
   "nbconvert_exporter": "python",
   "pygments_lexer": "ipython3",
   "version": "3.6.3"
  }
 },
 "nbformat": 4,
 "nbformat_minor": 2
}
